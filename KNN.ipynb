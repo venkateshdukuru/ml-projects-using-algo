{
  "nbformat": 4,
  "nbformat_minor": 0,
  "metadata": {
    "colab": {
      "provenance": [],
      "authorship_tag": "ABX9TyMzHgMLNSB6VzerX/GZl5dm",
      "include_colab_link": true
    },
    "kernelspec": {
      "name": "python3",
      "display_name": "Python 3"
    },
    "language_info": {
      "name": "python"
    }
  },
  "cells": [
    {
      "cell_type": "markdown",
      "metadata": {
        "id": "view-in-github",
        "colab_type": "text"
      },
      "source": [
        "<a href=\"https://colab.research.google.com/github/venkateshdukuru/ml-projects-using-algo/blob/main/KNN.ipynb\" target=\"_parent\"><img src=\"https://colab.research.google.com/assets/colab-badge.svg\" alt=\"Open In Colab\"/></a>"
      ]
    },
    {
      "cell_type": "code",
      "execution_count": null,
      "metadata": {
        "id": "npw7UTkxeTyn"
      },
      "outputs": [],
      "source": [
        "Y= df[\"survived\"].values\n",
        "x = df.drop([\"survived\"],axis=1)\n",
        "\n",
        "\n",
        "\n",
        "  #titanic dataset\n"
      ]
    },
    {
      "cell_type": "code",
      "source": [
        "from sklearn.model_selection import train_test_split\n",
        "x_train , x_test,y_train,y_test = train_test_split(X,Y,test_size=0.25,random_state=35)"
      ],
      "metadata": {
        "id": "0zYlQKO2fBwK"
      },
      "execution_count": null,
      "outputs": []
    },
    {
      "cell_type": "code",
      "source": [
        "from sklearn.neighbors import KNeibhoursClassifier\n",
        "from sklearn.metrics import accuracy_score\n",
        "model = KNeibhoursClassifier(n_neighbors= 2)\n",
        "model.fit(x_train,y_train) #training\n",
        "pred = model.predict(x_test) #prediction\n",
        "print(\"accuracy_score\", accuracy_score(y_test,pred))"
      ],
      "metadata": {
        "id": "c0sy32mdfCW5"
      },
      "execution_count": null,
      "outputs": []
    },
    {
      "cell_type": "code",
      "source": [
        "from sklearn.neighbors import KNeibhoursClassifier\n",
        "from sklearn.metrics import accuracy_score\n",
        "k = [3,5,8,5,2,7,5]\n",
        "for i in k:\n",
        "  model = KNeibhoursClassifier(n_neighbors= i)\n",
        "  model.fit(x_train,y_train) #training\n",
        "  pred = model.predict(x_test) #prediction\n",
        "  print(\"accuracy_score\", accuracy_score(y_test,pred))"
      ],
      "metadata": {
        "id": "HgR0ykm6fCZL"
      },
      "execution_count": null,
      "outputs": []
    },
    {
      "cell_type": "code",
      "source": [],
      "metadata": {
        "id": "j7dZ5WpQfCbb"
      },
      "execution_count": null,
      "outputs": []
    },
    {
      "cell_type": "code",
      "source": [],
      "metadata": {
        "id": "5Tb_hh3_fCdl"
      },
      "execution_count": null,
      "outputs": []
    },
    {
      "cell_type": "code",
      "source": [],
      "metadata": {
        "id": "JS7grlECfCfH"
      },
      "execution_count": null,
      "outputs": []
    },
    {
      "cell_type": "code",
      "source": [],
      "metadata": {
        "id": "PbUjqsH8fCid"
      },
      "execution_count": null,
      "outputs": []
    },
    {
      "cell_type": "code",
      "source": [],
      "metadata": {
        "id": "RZajK4yFfCnd"
      },
      "execution_count": null,
      "outputs": []
    },
    {
      "cell_type": "code",
      "source": [],
      "metadata": {
        "id": "0wy1tR07fCp7"
      },
      "execution_count": null,
      "outputs": []
    },
    {
      "cell_type": "code",
      "source": [],
      "metadata": {
        "id": "i-LQb_rNfCsc"
      },
      "execution_count": null,
      "outputs": []
    },
    {
      "cell_type": "code",
      "source": [],
      "metadata": {
        "id": "5vJj1i-zfCun"
      },
      "execution_count": null,
      "outputs": []
    },
    {
      "cell_type": "code",
      "source": [],
      "metadata": {
        "id": "y6TN6772fCwp"
      },
      "execution_count": null,
      "outputs": []
    },
    {
      "cell_type": "code",
      "source": [],
      "metadata": {
        "id": "1KimANFQfCy1"
      },
      "execution_count": null,
      "outputs": []
    },
    {
      "cell_type": "code",
      "source": [],
      "metadata": {
        "id": "ybsmXqSzfC1N"
      },
      "execution_count": null,
      "outputs": []
    },
    {
      "cell_type": "code",
      "source": [],
      "metadata": {
        "id": "7l4Ny2MWfC3h"
      },
      "execution_count": null,
      "outputs": []
    },
    {
      "cell_type": "code",
      "source": [],
      "metadata": {
        "id": "ZT8SxxYdfC5H"
      },
      "execution_count": null,
      "outputs": []
    },
    {
      "cell_type": "code",
      "source": [],
      "metadata": {
        "id": "jPnv30iwfC6q"
      },
      "execution_count": null,
      "outputs": []
    },
    {
      "cell_type": "code",
      "source": [],
      "metadata": {
        "id": "rPtIrAsXfC8b"
      },
      "execution_count": null,
      "outputs": []
    },
    {
      "cell_type": "code",
      "source": [],
      "metadata": {
        "id": "HIL1fv-tfC_r"
      },
      "execution_count": null,
      "outputs": []
    },
    {
      "cell_type": "code",
      "source": [],
      "metadata": {
        "id": "PzN8klMQfDDH"
      },
      "execution_count": null,
      "outputs": []
    }
  ]
}